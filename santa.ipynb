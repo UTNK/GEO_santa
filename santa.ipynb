{
 "metadata": {
  "language_info": {
   "codemirror_mode": {
    "name": "ipython",
    "version": 3
   },
   "file_extension": ".py",
   "mimetype": "text/x-python",
   "name": "python",
   "nbconvert_exporter": "python",
   "pygments_lexer": "ipython3",
   "version": "3.7.1-final"
  },
  "orig_nbformat": 2,
  "kernelspec": {
   "name": "python37164bitanaconda3virtualenv0ad083d7ab824c9baf938b496e322f89",
   "display_name": "Python 3.7.1 64-bit ('anaconda3': virtualenv)",
   "language": "python"
  }
 },
 "nbformat": 4,
 "nbformat_minor": 2,
 "cells": [
  {
   "cell_type": "code",
   "execution_count": 102,
   "metadata": {},
   "outputs": [],
   "source": [
    "import pandas as pd\n",
    "import numpy as np\n",
    "import codecs\n",
    "import math\n",
    "import copy\n",
    "import random"
   ]
  },
  {
   "cell_type": "code",
   "execution_count": 103,
   "metadata": {},
   "outputs": [
    {
     "output_type": "execute_result",
     "data": {
      "text/plain": [
       "    country   latitude  longitude                  name\n",
       "0        AD  42.546245   1.601554               Andorra\n",
       "1        AE  23.424076  53.847818  United Arab Emirates\n",
       "2        AF  33.939110  67.709953           Afghanistan\n",
       "3        AG  17.060816 -61.796428   Antigua and Barbuda\n",
       "4        AI  18.220554 -63.068615              Anguilla\n",
       "..      ...        ...        ...                   ...\n",
       "240      YE  15.552727  48.516388                 Yemen\n",
       "241      YT -12.827500  45.166244               Mayotte\n",
       "242      ZA -30.559482  22.937506          South Africa\n",
       "243      ZM -13.133897  27.849332                Zambia\n",
       "244      ZW -19.015438  29.154857              Zimbabwe\n",
       "\n",
       "[243 rows x 4 columns]"
      ],
      "text/html": "<div>\n<style scoped>\n    .dataframe tbody tr th:only-of-type {\n        vertical-align: middle;\n    }\n\n    .dataframe tbody tr th {\n        vertical-align: top;\n    }\n\n    .dataframe thead th {\n        text-align: right;\n    }\n</style>\n<table border=\"1\" class=\"dataframe\">\n  <thead>\n    <tr style=\"text-align: right;\">\n      <th></th>\n      <th>country</th>\n      <th>latitude</th>\n      <th>longitude</th>\n      <th>name</th>\n    </tr>\n  </thead>\n  <tbody>\n    <tr>\n      <th>0</th>\n      <td>AD</td>\n      <td>42.546245</td>\n      <td>1.601554</td>\n      <td>Andorra</td>\n    </tr>\n    <tr>\n      <th>1</th>\n      <td>AE</td>\n      <td>23.424076</td>\n      <td>53.847818</td>\n      <td>United Arab Emirates</td>\n    </tr>\n    <tr>\n      <th>2</th>\n      <td>AF</td>\n      <td>33.939110</td>\n      <td>67.709953</td>\n      <td>Afghanistan</td>\n    </tr>\n    <tr>\n      <th>3</th>\n      <td>AG</td>\n      <td>17.060816</td>\n      <td>-61.796428</td>\n      <td>Antigua and Barbuda</td>\n    </tr>\n    <tr>\n      <th>4</th>\n      <td>AI</td>\n      <td>18.220554</td>\n      <td>-63.068615</td>\n      <td>Anguilla</td>\n    </tr>\n    <tr>\n      <th>...</th>\n      <td>...</td>\n      <td>...</td>\n      <td>...</td>\n      <td>...</td>\n    </tr>\n    <tr>\n      <th>240</th>\n      <td>YE</td>\n      <td>15.552727</td>\n      <td>48.516388</td>\n      <td>Yemen</td>\n    </tr>\n    <tr>\n      <th>241</th>\n      <td>YT</td>\n      <td>-12.827500</td>\n      <td>45.166244</td>\n      <td>Mayotte</td>\n    </tr>\n    <tr>\n      <th>242</th>\n      <td>ZA</td>\n      <td>-30.559482</td>\n      <td>22.937506</td>\n      <td>South Africa</td>\n    </tr>\n    <tr>\n      <th>243</th>\n      <td>ZM</td>\n      <td>-13.133897</td>\n      <td>27.849332</td>\n      <td>Zambia</td>\n    </tr>\n    <tr>\n      <th>244</th>\n      <td>ZW</td>\n      <td>-19.015438</td>\n      <td>29.154857</td>\n      <td>Zimbabwe</td>\n    </tr>\n  </tbody>\n</table>\n<p>243 rows × 4 columns</p>\n</div>"
     },
     "metadata": {},
     "execution_count": 103
    }
   ],
   "source": [
    "with codecs.open(\"data/countries.csv\", \"r\", \"utf-8\", \"ignore\") as file:\n",
    "    df = pd.read_table(file,encoding = \"utf-8\", delimiter=\",\")\n",
    "\n",
    "# remove UM because it has no latitude or longitude\n",
    "df = df[df['country']!='UM']\n",
    "df = df.dropna(how='any')\n",
    "df"
   ]
  },
  {
   "cell_type": "code",
   "execution_count": 104,
   "metadata": {},
   "outputs": [],
   "source": [
    "# calculate distance\n",
    "def calc_distance(latitudeA, longitudeA, latitudeB, longitudeB, ):\n",
    "    rlaA = math.radians(latitudeA)\n",
    "    rloA = math.radians(longitudeA)\n",
    "    \n",
    "    rlaB = math.radians(latitudeB)\n",
    "    rloB = math.radians(longitudeB)\n",
    "\n",
    "    # 北極からの角度\n",
    "    a = math.pi/2-rlaA\n",
    "    b = math.pi/2-rlaB\n",
    "    # 経度の差\n",
    "    C = rloA - rloB\n",
    "\n",
    "    return math.acos(max(min(math.cos(a) * math.cos(b) + math.sin(a) * math.sin(b) * math.cos(C), 1), -1))"
   ]
  },
  {
   "cell_type": "code",
   "execution_count": 105,
   "metadata": {},
   "outputs": [],
   "source": [
    "country2lola = {}\n",
    "for country, latitude, longitude in zip(list(df['country']), list(df['latitude']), list(df['longitude'])):\n",
    "    country2lola[country] = (latitude, longitude)"
   ]
  },
  {
   "cell_type": "code",
   "execution_count": 130,
   "metadata": {
    "tags": []
   },
   "outputs": [],
   "source": [
    "distance_matrix = {}\n",
    "for country_i in list(country2lola.keys()):\n",
    "    distance_matrix_i = {}\n",
    "    for country_j in list(country2lola.keys()):\n",
    "        distance_matrix_i[country_j] = calc_distance(country2lola[country_i][0], country2lola[country_i][1], country2lola[country_j][0], country2lola[country_j][1])\n",
    "    distance_matrix[country_i] = distance_matrix_i"
   ]
  },
  {
   "cell_type": "code",
   "execution_count": 131,
   "metadata": {},
   "outputs": [],
   "source": [
    "class JOURNEY():\n",
    "    route = []\n",
    "    Ndestinations = 0\n",
    "    def __init__(self, route):\n",
    "        self.route         = route\n",
    "        self.Ndestinations = len(route)\n",
    "    def get_similar_route(self, distance_matrix): # return {route: distance}\n",
    "        route2distance = {}\n",
    "        self_distance  = self.get_total_distance(distance_matrix)\n",
    "        for i in list(range(self.Ndestinations-1)):\n",
    "            for j in list(range(self.Ndestinations))[i+1:]:\n",
    "                #j = i + 1\n",
    "                #if True:                                    # 出発点と目的点も変える\n",
    "                if (i != 0 and j != self.Ndestinations - 1): # 出発点と目的点は変えない\n",
    "                    route_        = copy.deepcopy(self.route)\n",
    "                    # swap i-th and j-th destinations\n",
    "                    tmp       = route_[i]\n",
    "                    route_[i] = route_[j]\n",
    "                    route_[j] = tmp\n",
    "                    # calculate total distance\n",
    "                    similar_journey = JOURNEY(route_)\n",
    "                    route2distance[similar_journey] = similar_journey.get_total_distance(distance_matrix)\n",
    "        return route2distance\n",
    "    def get_total_distance(self, distance_matrix):\n",
    "        total_distance = 0\n",
    "        for i in range(self.Ndestinations-1):\n",
    "            total_distance += distance_matrix[self.route[i]][self.route[i+1]]\n",
    "        return total_distance"
   ]
  },
  {
   "cell_type": "code",
   "execution_count": 132,
   "metadata": {},
   "outputs": [],
   "source": [
    "def optimize_journey(route):\n",
    "    journey = JOURNEY(route)\n",
    "\n",
    "    T = 1000 # temperature\n",
    "\n",
    "    while T > 0:\n",
    "        journey2distance = journey.get_similar_route(distance_matrix)\n",
    "        min_journey = min(journey2distance, key=journey2distance.get)\n",
    "\n",
    "        score_difference = min_journey.get_total_distance(distance_matrix) - journey.get_total_distance(distance_matrix)\n",
    "\n",
    "        if (score_difference < 0):\n",
    "            journey = min_journey\n",
    "        elif random.random() < np.exp(-(score_difference)/T):\n",
    "            journey = min_journey\n",
    "        print(T, journey.get_total_distance(distance_matrix))\n",
    "        T -= 1\n",
    "    return journey.route"
   ]
  },
  {
   "cell_type": "code",
   "execution_count": 133,
   "metadata": {},
   "outputs": [],
   "source": [
    "route = list(df['country'])\n",
    "\n",
    "for i in range(len(route)):\n",
    "    if ( route[i] == 'FI' ):\n",
    "        route[i] = route[0]\n",
    "        route[0] = 'FI'\n",
    "    \n",
    "    if ( route[i] == 'JP' ):\n",
    "        route[i] = route[-1]\n",
    "        route[-1] = 'JP'\n",
    "\n",
    "journey = JOURNEY(route)"
   ]
  },
  {
   "cell_type": "code",
   "execution_count": 134,
   "metadata": {},
   "outputs": [
    {
     "output_type": "execute_result",
     "data": {
      "text/plain": [
       "293.1369651628344"
      ]
     },
     "metadata": {},
     "execution_count": 134
    }
   ],
   "source": [
    "journey.get_total_distance(distance_matrix)"
   ]
  },
  {
   "cell_type": "code",
   "execution_count": 135,
   "metadata": {},
   "outputs": [
    {
     "output_type": "stream",
     "name": "stdout",
     "text": [
      "100 283.559207379444\n",
      "99 275.900660372042\n",
      "98 269.5186193658177\n",
      "97 263.27372920444174\n",
      "96 257.6555579873895\n",
      "95 252.07638896820214\n",
      "94 246.99333366026778\n",
      "93 242.0443040569921\n",
      "92 237.12512337683586\n",
      "91 232.2334506299482\n",
      "90 227.49474231982128\n",
      "89 223.09799251860701\n",
      "88 218.94226630275824\n",
      "87 214.8618468734667\n",
      "86 211.1032232221833\n",
      "85 207.34459962860973\n",
      "84 203.88797795512275\n",
      "83 200.48932313849906\n",
      "82 197.10541417277838\n",
      "81 193.78549637671424\n",
      "80 190.4716988604774\n",
      "79 187.40293728473037\n",
      "78 184.61661778235595\n",
      "77 181.8859243332998\n",
      "76 179.17915633450212\n",
      "75 176.4963490787848\n",
      "74 174.0765988547388\n",
      "73 171.80207592889923\n",
      "72 169.58040004671201\n",
      "71 167.39605273740807\n",
      "70 165.38806498178613\n",
      "69 163.3872052714781\n",
      "68 161.4187668849287\n",
      "67 159.47150651723095\n",
      "66 157.5547931929395\n",
      "65 156.06917959108782\n",
      "64 154.6921784388006\n",
      "63 153.33930177083099\n",
      "62 152.05280553499514\n",
      "61 150.7800854898196\n",
      "60 149.60370787993742\n",
      "59 148.06608635507672\n",
      "58 146.89265907839402\n",
      "57 145.78813424149533\n",
      "56 144.514110369034\n",
      "55 143.41146601894525\n",
      "54 142.31893954780412\n",
      "53 141.25187618616394\n",
      "52 140.213711840235\n",
      "51 139.20995130028527\n",
      "50 138.20717975441198\n",
      "49 137.3085926596652\n",
      "48 136.44897416689713\n",
      "47 135.63548509907957\n",
      "46 134.31717439243005\n",
      "45 133.50393274036202\n",
      "44 132.38261970538198\n",
      "43 131.56982836281747\n",
      "42 130.70106195764498\n",
      "41 129.90483717742399\n",
      "40 129.1266338553052\n",
      "39 128.37930174167462\n",
      "38 127.68553285208438\n",
      "37 126.98301849649737\n",
      "36 126.3010816690849\n",
      "35 125.62210237217029\n",
      "34 124.96239827169798\n",
      "33 124.32815400968302\n",
      "32 123.70700332117707\n",
      "31 123.08873233393675\n",
      "30 122.47436291807244\n",
      "29 121.89671167261415\n",
      "28 121.32830271364296\n",
      "27 120.77330038539552\n",
      "26 120.23636895079596\n",
      "25 119.74148684935213\n",
      "24 119.28684881921961\n",
      "23 118.51286885676691\n",
      "22 118.01426764481084\n",
      "21 117.57476002786473\n",
      "20 116.02665568942025\n",
      "19 115.2482270689041\n",
      "18 114.63561453188173\n",
      "17 114.21112676545185\n",
      "16 113.79385376191708\n",
      "15 113.40209441320103\n",
      "14 112.84842849582674\n",
      "13 112.47421549493475\n",
      "12 112.11436134815942\n",
      "11 111.75693497624279\n",
      "10 111.31503381798031\n",
      "9 110.97137830612535\n",
      "8 110.39471257789829\n",
      "7 109.410721738649\n",
      "6 109.06797490628308\n",
      "5 108.64617074065161\n",
      "4 108.30875394861133\n",
      "3 107.98451428165255\n",
      "2 107.68115257476835\n",
      "1 107.38429957802951\n"
     ]
    }
   ],
   "source": [
    "optimized_route = optimize_journey(journey.route)"
   ]
  },
  {
   "cell_type": "code",
   "execution_count": 136,
   "metadata": {},
   "outputs": [],
   "source": [
    "with codecs.open(\"data/countries.csv\", \"r\", \"utf-8\", \"ignore\") as file:\n",
    "    df2 = pd.read_table(file,encoding = \"utf-8\", delimiter=\",\", index_col = 0)"
   ]
  },
  {
   "cell_type": "code",
   "execution_count": 137,
   "metadata": {},
   "outputs": [],
   "source": [
    "optimized_df = df2.reindex(optimized_route)\n",
    "optimized_df.to_csv(\"output/output.csv\", sep = ',')"
   ]
  },
  {
   "cell_type": "code",
   "execution_count": null,
   "metadata": {},
   "outputs": [],
   "source": []
  }
 ]
}