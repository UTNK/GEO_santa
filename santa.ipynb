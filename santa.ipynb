{
 "metadata": {
  "language_info": {
   "codemirror_mode": {
    "name": "ipython",
    "version": 3
   },
   "file_extension": ".py",
   "mimetype": "text/x-python",
   "name": "python",
   "nbconvert_exporter": "python",
   "pygments_lexer": "ipython3",
   "version": "3.7.1-final"
  },
  "orig_nbformat": 2,
  "kernelspec": {
   "name": "python37164bitanaconda3virtualenv0ad083d7ab824c9baf938b496e322f89",
   "display_name": "Python 3.7.1 64-bit ('anaconda3': virtualenv)",
   "language": "python"
  }
 },
 "nbformat": 4,
 "nbformat_minor": 2,
 "cells": [
  {
   "cell_type": "code",
   "execution_count": 15,
   "metadata": {},
   "outputs": [],
   "source": [
    "import pandas as pd\n",
    "import codecs\n",
    "import math"
   ]
  },
  {
   "cell_type": "code",
   "execution_count": 36,
   "metadata": {},
   "outputs": [
    {
     "output_type": "execute_result",
     "data": {
      "text/plain": [
       "    country   latitude  longitude                  name\n",
       "0        AD  42.546245   1.601554               Andorra\n",
       "1        AE  23.424076  53.847818  United Arab Emirates\n",
       "2        AF  33.939110  67.709953           Afghanistan\n",
       "3        AG  17.060816 -61.796428   Antigua and Barbuda\n",
       "4        AI  18.220554 -63.068615              Anguilla\n",
       "..      ...        ...        ...                   ...\n",
       "240      YE  15.552727  48.516388                 Yemen\n",
       "241      YT -12.827500  45.166244               Mayotte\n",
       "242      ZA -30.559482  22.937506          South Africa\n",
       "243      ZM -13.133897  27.849332                Zambia\n",
       "244      ZW -19.015438  29.154857              Zimbabwe\n",
       "\n",
       "[244 rows x 4 columns]"
      ],
      "text/html": "<div>\n<style scoped>\n    .dataframe tbody tr th:only-of-type {\n        vertical-align: middle;\n    }\n\n    .dataframe tbody tr th {\n        vertical-align: top;\n    }\n\n    .dataframe thead th {\n        text-align: right;\n    }\n</style>\n<table border=\"1\" class=\"dataframe\">\n  <thead>\n    <tr style=\"text-align: right;\">\n      <th></th>\n      <th>country</th>\n      <th>latitude</th>\n      <th>longitude</th>\n      <th>name</th>\n    </tr>\n  </thead>\n  <tbody>\n    <tr>\n      <th>0</th>\n      <td>AD</td>\n      <td>42.546245</td>\n      <td>1.601554</td>\n      <td>Andorra</td>\n    </tr>\n    <tr>\n      <th>1</th>\n      <td>AE</td>\n      <td>23.424076</td>\n      <td>53.847818</td>\n      <td>United Arab Emirates</td>\n    </tr>\n    <tr>\n      <th>2</th>\n      <td>AF</td>\n      <td>33.939110</td>\n      <td>67.709953</td>\n      <td>Afghanistan</td>\n    </tr>\n    <tr>\n      <th>3</th>\n      <td>AG</td>\n      <td>17.060816</td>\n      <td>-61.796428</td>\n      <td>Antigua and Barbuda</td>\n    </tr>\n    <tr>\n      <th>4</th>\n      <td>AI</td>\n      <td>18.220554</td>\n      <td>-63.068615</td>\n      <td>Anguilla</td>\n    </tr>\n    <tr>\n      <th>...</th>\n      <td>...</td>\n      <td>...</td>\n      <td>...</td>\n      <td>...</td>\n    </tr>\n    <tr>\n      <th>240</th>\n      <td>YE</td>\n      <td>15.552727</td>\n      <td>48.516388</td>\n      <td>Yemen</td>\n    </tr>\n    <tr>\n      <th>241</th>\n      <td>YT</td>\n      <td>-12.827500</td>\n      <td>45.166244</td>\n      <td>Mayotte</td>\n    </tr>\n    <tr>\n      <th>242</th>\n      <td>ZA</td>\n      <td>-30.559482</td>\n      <td>22.937506</td>\n      <td>South Africa</td>\n    </tr>\n    <tr>\n      <th>243</th>\n      <td>ZM</td>\n      <td>-13.133897</td>\n      <td>27.849332</td>\n      <td>Zambia</td>\n    </tr>\n    <tr>\n      <th>244</th>\n      <td>ZW</td>\n      <td>-19.015438</td>\n      <td>29.154857</td>\n      <td>Zimbabwe</td>\n    </tr>\n  </tbody>\n</table>\n<p>244 rows × 4 columns</p>\n</div>"
     },
     "metadata": {},
     "execution_count": 36
    }
   ],
   "source": [
    "with codecs.open(\"data/countries.csv\", \"r\", \"utf-8\", \"ignore\") as file:\n",
    "    df = pd.read_table(file,encoding = \"utf-8\", delimiter=\",\")\n",
    "\n",
    "# remove UM because it has no latitude or longitude\n",
    "df = df[df['country']!='UM']\n",
    "df"
   ]
  },
  {
   "cell_type": "code",
   "execution_count": 74,
   "metadata": {},
   "outputs": [],
   "source": [
    "# calculate distance\n",
    "def calc_distance(latitudeA, longitudeA, latitudeB, longitudeB, ):\n",
    "    rlaA = math.radians(latitudeA)\n",
    "    rloA = math.radians(longitudeA)\n",
    "    \n",
    "    rlaB = math.radians(latitudeB)\n",
    "    rloB = math.radians(longitudeB)\n",
    "\n",
    "    # 北極からの角度\n",
    "    a = math.pi/2-rlaA\n",
    "    b = math.pi/2-rlaB\n",
    "    # 経度の差\n",
    "    C = rloA - rloB\n",
    "\n",
    "    return math.acos(max(min(math.cos(a) * math.cos(b) + math.sin(a) * math.sin(b) * math.cos(C), 1), -1))"
   ]
  },
  {
   "cell_type": "code",
   "execution_count": 75,
   "metadata": {},
   "outputs": [],
   "source": [
    "country2lola = {}\n",
    "for country, latitude, longitude in zip(list(df['country']), list(df['latitude']), list(df['longitude'])):\n",
    "    country2lola[country] = (latitude, longitude)"
   ]
  },
  {
   "cell_type": "code",
   "execution_count": 79,
   "metadata": {
    "tags": []
   },
   "outputs": [],
   "source": [
    "distance_matrix = {}\n",
    "for country_i in list(country2lola.keys()):\n",
    "    distance_matrix_i = {}\n",
    "    for country_j in list(country2lola.keys()):\n",
    "        distance_matrix_i[country_j] = calc_distance(country2lola[country_i][0], country2lola[country_i][1], country2lola[country_j][0], country2lola[country_j][1])\n",
    "    distance_matrix[country_i] = distance_matrix_i"
   ]
  },
  {
   "cell_type": "code",
   "execution_count": null,
   "metadata": {},
   "outputs": [],
   "source": []
  }
 ]
}