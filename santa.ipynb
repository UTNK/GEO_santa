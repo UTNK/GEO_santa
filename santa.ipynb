{
 "metadata": {
  "language_info": {
   "codemirror_mode": {
    "name": "ipython",
    "version": 3
   },
   "file_extension": ".py",
   "mimetype": "text/x-python",
   "name": "python",
   "nbconvert_exporter": "python",
   "pygments_lexer": "ipython3",
   "version": "3.7.1-final"
  },
  "orig_nbformat": 2,
  "kernelspec": {
   "name": "python37164bitanaconda3virtualenv0ad083d7ab824c9baf938b496e322f89",
   "display_name": "Python 3.7.1 64-bit ('anaconda3': virtualenv)",
   "language": "python"
  }
 },
 "nbformat": 4,
 "nbformat_minor": 2,
 "cells": [
  {
   "cell_type": "code",
   "execution_count": 7,
   "metadata": {},
   "outputs": [],
   "source": [
    "import pandas as pd\n",
    "import numpy as np\n",
    "import codecs\n",
    "import math\n",
    "import copy\n",
    "import random"
   ]
  },
  {
   "cell_type": "code",
   "execution_count": 2,
   "metadata": {},
   "outputs": [
    {
     "output_type": "execute_result",
     "data": {
      "text/plain": [
       "    country   latitude  longitude                  name\n",
       "0        AD  42.546245   1.601554               Andorra\n",
       "1        AE  23.424076  53.847818  United Arab Emirates\n",
       "2        AF  33.939110  67.709953           Afghanistan\n",
       "3        AG  17.060816 -61.796428   Antigua and Barbuda\n",
       "4        AI  18.220554 -63.068615              Anguilla\n",
       "..      ...        ...        ...                   ...\n",
       "240      YE  15.552727  48.516388                 Yemen\n",
       "241      YT -12.827500  45.166244               Mayotte\n",
       "242      ZA -30.559482  22.937506          South Africa\n",
       "243      ZM -13.133897  27.849332                Zambia\n",
       "244      ZW -19.015438  29.154857              Zimbabwe\n",
       "\n",
       "[243 rows x 4 columns]"
      ],
      "text/html": "<div>\n<style scoped>\n    .dataframe tbody tr th:only-of-type {\n        vertical-align: middle;\n    }\n\n    .dataframe tbody tr th {\n        vertical-align: top;\n    }\n\n    .dataframe thead th {\n        text-align: right;\n    }\n</style>\n<table border=\"1\" class=\"dataframe\">\n  <thead>\n    <tr style=\"text-align: right;\">\n      <th></th>\n      <th>country</th>\n      <th>latitude</th>\n      <th>longitude</th>\n      <th>name</th>\n    </tr>\n  </thead>\n  <tbody>\n    <tr>\n      <th>0</th>\n      <td>AD</td>\n      <td>42.546245</td>\n      <td>1.601554</td>\n      <td>Andorra</td>\n    </tr>\n    <tr>\n      <th>1</th>\n      <td>AE</td>\n      <td>23.424076</td>\n      <td>53.847818</td>\n      <td>United Arab Emirates</td>\n    </tr>\n    <tr>\n      <th>2</th>\n      <td>AF</td>\n      <td>33.939110</td>\n      <td>67.709953</td>\n      <td>Afghanistan</td>\n    </tr>\n    <tr>\n      <th>3</th>\n      <td>AG</td>\n      <td>17.060816</td>\n      <td>-61.796428</td>\n      <td>Antigua and Barbuda</td>\n    </tr>\n    <tr>\n      <th>4</th>\n      <td>AI</td>\n      <td>18.220554</td>\n      <td>-63.068615</td>\n      <td>Anguilla</td>\n    </tr>\n    <tr>\n      <th>...</th>\n      <td>...</td>\n      <td>...</td>\n      <td>...</td>\n      <td>...</td>\n    </tr>\n    <tr>\n      <th>240</th>\n      <td>YE</td>\n      <td>15.552727</td>\n      <td>48.516388</td>\n      <td>Yemen</td>\n    </tr>\n    <tr>\n      <th>241</th>\n      <td>YT</td>\n      <td>-12.827500</td>\n      <td>45.166244</td>\n      <td>Mayotte</td>\n    </tr>\n    <tr>\n      <th>242</th>\n      <td>ZA</td>\n      <td>-30.559482</td>\n      <td>22.937506</td>\n      <td>South Africa</td>\n    </tr>\n    <tr>\n      <th>243</th>\n      <td>ZM</td>\n      <td>-13.133897</td>\n      <td>27.849332</td>\n      <td>Zambia</td>\n    </tr>\n    <tr>\n      <th>244</th>\n      <td>ZW</td>\n      <td>-19.015438</td>\n      <td>29.154857</td>\n      <td>Zimbabwe</td>\n    </tr>\n  </tbody>\n</table>\n<p>243 rows × 4 columns</p>\n</div>"
     },
     "metadata": {},
     "execution_count": 2
    }
   ],
   "source": [
    "with codecs.open(\"data/countries.csv\", \"r\", \"utf-8\", \"ignore\") as file:\n",
    "    df = pd.read_table(file,encoding = \"utf-8\", delimiter=\",\")\n",
    "\n",
    "# remove UM because it has no latitude or longitude\n",
    "df = df[df['country']!='UM']\n",
    "df = df.dropna(how='any')\n",
    "df"
   ]
  },
  {
   "cell_type": "code",
   "execution_count": 3,
   "metadata": {},
   "outputs": [],
   "source": [
    "# calculate distance\n",
    "def calc_distance(latitudeA, longitudeA, latitudeB, longitudeB, ):\n",
    "    rlaA = math.radians(latitudeA)\n",
    "    rloA = math.radians(longitudeA)\n",
    "    \n",
    "    rlaB = math.radians(latitudeB)\n",
    "    rloB = math.radians(longitudeB)\n",
    "\n",
    "    # 北極からの角度\n",
    "    a = math.pi/2-rlaA\n",
    "    b = math.pi/2-rlaB\n",
    "    # 経度の差\n",
    "    C = rloA - rloB\n",
    "\n",
    "    return math.acos(max(min(math.cos(a) * math.cos(b) + math.sin(a) * math.sin(b) * math.cos(C), 1), -1))"
   ]
  },
  {
   "cell_type": "code",
   "execution_count": 4,
   "metadata": {},
   "outputs": [],
   "source": [
    "country2lola = {}\n",
    "for country, latitude, longitude in zip(list(df['country']), list(df['latitude']), list(df['longitude'])):\n",
    "    country2lola[country] = (latitude, longitude)"
   ]
  },
  {
   "cell_type": "code",
   "execution_count": 5,
   "metadata": {
    "tags": []
   },
   "outputs": [],
   "source": [
    "distance_matrix = {}\n",
    "for country_i in list(country2lola.keys()):\n",
    "    distance_matrix_i = {}\n",
    "    for country_j in list(country2lola.keys()):\n",
    "        distance_matrix_i[country_j] = calc_distance(country2lola[country_i][0], country2lola[country_i][1], country2lola[country_j][0], country2lola[country_j][1])\n",
    "    distance_matrix[country_i] = distance_matrix_i"
   ]
  },
  {
   "cell_type": "code",
   "execution_count": 49,
   "metadata": {},
   "outputs": [],
   "source": [
    "class JOURNEY():\n",
    "    route = []\n",
    "    Ndestinations = 0\n",
    "    def __init__(self, route):\n",
    "        self.route         = route\n",
    "        self.Ndestinations = len(route)\n",
    "    def get_similar_route(self, distance_matrix): # return {route: distance}\n",
    "        route2distance = {}\n",
    "        self_distance  = self.get_total_distance(distance_matrix)\n",
    "        for i in list(range(self.Ndestinations-1)):\n",
    "            for j in list(range(self.Ndestinations))[i+1:]:\n",
    "                #j = i + 1\n",
    "                #if True:                                    # 出発点と目的点も変える\n",
    "                if (i != 0 and j != self.Ndestinations - 1): # 出発点と目的点は変えない\n",
    "                    route_        = copy.deepcopy(self.route)\n",
    "                    # swap i-th and j-th destinations\n",
    "                    tmp       = route_[i]\n",
    "                    route_[i] = route_[j]\n",
    "                    route_[j] = tmp\n",
    "                    # calculate total distance\n",
    "                    similar_journey = JOURNEY(route_)\n",
    "                    route2distance[similar_journey] = similar_journey.get_total_distance(distance_matrix)\n",
    "        return route2distance\n",
    "    def get_total_distance(self, distance_matrix):\n",
    "        total_distance = 0\n",
    "        for i in range(self.Ndestinations-1):\n",
    "            total_distance += distance_matrix[self.route[i]][self.route[i+1]]\n",
    "        return total_distance"
   ]
  },
  {
   "cell_type": "code",
   "execution_count": 61,
   "metadata": {},
   "outputs": [],
   "source": [
    "def optimize_journey(route):\n",
    "    journey = JOURNEY(route)\n",
    "\n",
    "    T = 10000 # temperature\n",
    "\n",
    "    while T > 0:\n",
    "        journey2distance = journey.get_similar_route(distance_matrix)\n",
    "        min_journey = min(journey2distance, key=journey2distance.get)\n",
    "\n",
    "        score_difference = min_journey.get_total_distance(distance_matrix) - journey.get_total_distance(distance_matrix)\n",
    "\n",
    "        print(score_difference, np.exp(-(score_difference)/T), end = '\\t')\n",
    "\n",
    "        if (score_difference < 0):\n",
    "            print(journey.get_total_distance(distance_matrix))\n",
    "            journey = min_journey\n",
    "        elif random.random() < np.exp(-(score_difference)/T):\n",
    "            print(journey.get_total_distance(distance_matrix))\n",
    "            journey = min_journey\n",
    "        T -= 1\n",
    "    return journey.route"
   ]
  },
  {
   "cell_type": "code",
   "execution_count": 62,
   "metadata": {},
   "outputs": [],
   "source": [
    "route = list(df['country'])\n",
    "min_journey = JOURNEY(route)\n",
    "for i in range(100):\n",
    "    random.shuffle(route)\n",
    "    journey = JOURNEY(route)\n",
    "    if journey.get_total_distance(distance_matrix) < min_journey.get_total_distance(distance_matrix):\n",
    "        min_journey = journey"
   ]
  },
  {
   "cell_type": "code",
   "execution_count": 63,
   "metadata": {},
   "outputs": [
    {
     "output_type": "execute_result",
     "data": {
      "text/plain": [
       "324.0272155262677"
      ]
     },
     "metadata": {},
     "execution_count": 63
    }
   ],
   "source": [
    "journey.get_total_distance(distance_matrix)"
   ]
  },
  {
   "cell_type": "code",
   "execution_count": 60,
   "metadata": {},
   "outputs": [
    {
     "output_type": "stream",
     "name": "stdout",
     "text": [
      "9.117956294903308 0.9990886199298333\t333.7477147381238\n",
      "7.423174245478776 0.9992578838407953\t324.6297584432205\n",
      "7.345290457162378 0.9992655938274081\t317.20658419774173\n",
      "6.754545200709117 0.9993245709877026\t309.86129374057936\n",
      "6.484993166431536 0.9993514515783304\t303.10674853987024\n",
      "7.2881638362067065 0.9992710848137324\t296.6217553734387\n",
      "6.3879289329936455 0.9993610278305805\t289.333591537232\n",
      "6.003170326259067 0.9993994428577637\t282.94566260423835\n",
      "5.635855842600847 0.9994361222251499\t276.9424922779793\n",
      "5.37634568755692 0.9994620258842511\t271.30663643537844\n",
      "5.104365529627785 0.9994891830109818\t265.9302907478215\n",
      "5.6884059248060055 0.9994306951093735\t260.82592521819373\n",
      "5.068687021861308 0.9994926510696196\t255.13751929338773\n",
      "5.028851244989966 0.9994965870287087\t250.06883227152642\n",
      "4.898222361995067 0.9995096113311197\t245.03998102653645\n",
      "5.063043797234741 0.9994930635585301\t240.14175866454138\n",
      "4.8944995532972655 0.9995098858149573\t235.07871486730664\n",
      "4.823069004054219 0.9995169884692686\t230.18421531400938\n",
      "4.4371815424495935 0.9995555804964544\t225.36114630995516\n",
      "3.9381619498267924 0.9996055119607402\t220.92396476750557\n",
      "3.705830624432849 0.9996287432189894\t216.98580281767877\n",
      "3.6033208613272905 0.9996389748093615\t213.27997219324592\n",
      "3.459924956323505 0.9996533047552719\t209.67665133191863\n",
      "3.4507460969748536 0.9996541896952189\t206.21672637559513\n",
      "3.428454385325324 0.9996563888007293\t202.76598027862028\n",
      "3.4860657305803215 0.999650580787375\t199.33752589329495\n",
      "3.401708825477783 0.9996590005211509\t195.85146016271463\n",
      "3.362865440436792 0.9996628598686322\t192.44975133723685\n",
      "3.1986485005236887 0.9996792884525324\t189.08688589680006\n",
      "3.0799744600157055 0.9996911544662168\t185.88823739627637\n",
      "3.0163153447690547 0.9996975066084216\t182.80826293626066\n",
      "2.97262324726762 0.9997018577497289\t179.7919475914916\n",
      "2.7570700731507145 0.9997234461460274\t176.819324344224\n",
      "2.554889403229822 0.999743698005657\t174.06225427107327\n",
      "2.3819586848060794 0.9997610200628838\t171.50736486784345\n",
      "2.2425954437290443 0.9997749781116172\t169.12540618303737\n",
      "2.213019900551899 0.999777923107069\t166.88281073930833\n",
      "2.1944536609146326 0.9997797639262156\t164.66979083875643\n",
      "1.7520376921814886 0.9998241433814542\t162.4753371778418\n",
      "1.6931304284034354 0.9998300384960516\t160.7232994856603\n",
      "1.8429592841230829 0.9998149810454151\t159.03016905725687\n",
      "1.6831145910632586 0.999831009903383\t157.1872097731338\n",
      "1.6742023706606233 0.9998318877646348\t155.50409518207053\n",
      "1.4138522492726224 0.9998580142740305\t153.8298928114099\n",
      "1.5261115380445744 0.9998467261371483\t152.41604056213728\n",
      "1.3419267298341993 0.9998652098153162\t150.8899290240927\n",
      "1.2743648862415284 0.9998719827894131\t149.5480022942585\n",
      "1.251461547216536 0.9998742707853985\t148.27363740801698\n",
      "1.2230998986178747 0.9998771076424574\t147.02217586080044\n",
      "2.2261742902503556 0.9997763113962358\t145.79907596218257\n",
      "1.1454037608115755 0.999884890669727\t143.57290167193221\n",
      "1.1359920530470617 0.9998858249873496\t142.42749791112064\n",
      "1.0982345838821175 0.9998896085680616\t141.29150585807358\n",
      "1.0739287106777056 0.9998920407419964\t140.19327127419146\n",
      "1.0373130702104163 0.9998957109411755\t139.11934256351375\n",
      "1.0168592786460522 0.9998977569336999\t138.08202949330334\n",
      "1.006541931429524 0.9998987840917596\t137.0651702146573\n",
      "0.9940459340135703 0.999900030549525\t136.05862828322776\n",
      "0.9820417368479184 0.9999012277975421\t135.0645823492142\n",
      "0.9457684219445923 0.9999048663681683\t134.08254061236627\n",
      "0.9283215488011365 0.9999066118510049\t133.13677219042168\n",
      "0.8842701899299641 0.9999110342233167\t132.20845064162054\n",
      "1.1495480826584696 0.9998843347152371\t131.32418045169058\n",
      "0.866059574486485 0.9999128487637258\t130.1746323690321\n",
      "0.8483910712385807 0.9999146180704418\t129.30857279454563\n",
      "0.815143850921757 0.9999179556707097\t128.46018172330704\n",
      "0.7787466170528603 0.9999216110233462\t127.64503787238529\n",
      "0.7718122509050005 0.9999223011913752\t126.86629125533243\n",
      "0.7293658154989657 0.9999265667503705\t126.09447900442743\n",
      "0.7183892824926659 0.9999276645554652\t125.36511318892846\n",
      "0.6963460687198619 0.9999298769734655\t124.6467239064358\n",
      "0.6929833167134092 0.9999302085674002\t123.95037783771593\n",
      "0.6838120079019632 0.9999311252559485\t123.25739452100252\n",
      "0.6566999169359633 0.999933849280134\t122.57358251310056\n",
      "0.6341344379699478 0.9999361158389904\t121.9168825961646\n",
      "0.6330628795457329 0.9999362173611969\t121.28274815819465\n",
      "0.5884612424378446 0.9999407049782493\t120.64968527864892\n",
      "0.5518836372304179 0.9999443849349424\t120.06122403621107\n",
      "0.5416626708815926 0.9999454094047668\t119.50934039898065\n",
      "0.5325684837810343 0.9999463205130882\t118.96767772809906\n"
     ]
    },
    {
     "output_type": "error",
     "ename": "KeyboardInterrupt",
     "evalue": "",
     "traceback": [
      "\u001b[0;31m---------------------------------------------------------------------------\u001b[0m",
      "\u001b[0;31mKeyboardInterrupt\u001b[0m                         Traceback (most recent call last)",
      "\u001b[0;32m<ipython-input-60-62163898680c>\u001b[0m in \u001b[0;36m<module>\u001b[0;34m\u001b[0m\n\u001b[0;32m----> 1\u001b[0;31m \u001b[0moptimized_journey\u001b[0m \u001b[0;34m=\u001b[0m \u001b[0moptimize_journey\u001b[0m\u001b[0;34m(\u001b[0m\u001b[0mjourney\u001b[0m\u001b[0;34m.\u001b[0m\u001b[0mroute\u001b[0m\u001b[0;34m)\u001b[0m\u001b[0;34m\u001b[0m\u001b[0;34m\u001b[0m\u001b[0m\n\u001b[0m",
      "\u001b[0;32m<ipython-input-57-718e1f2d6439>\u001b[0m in \u001b[0;36moptimize_journey\u001b[0;34m(route)\u001b[0m\n\u001b[1;32m      5\u001b[0m \u001b[0;34m\u001b[0m\u001b[0m\n\u001b[1;32m      6\u001b[0m     \u001b[0;32mwhile\u001b[0m \u001b[0mT\u001b[0m \u001b[0;34m>\u001b[0m \u001b[0;36m0\u001b[0m\u001b[0;34m:\u001b[0m\u001b[0;34m\u001b[0m\u001b[0;34m\u001b[0m\u001b[0m\n\u001b[0;32m----> 7\u001b[0;31m         \u001b[0mjourney2distance\u001b[0m \u001b[0;34m=\u001b[0m \u001b[0mjourney\u001b[0m\u001b[0;34m.\u001b[0m\u001b[0mget_similar_route\u001b[0m\u001b[0;34m(\u001b[0m\u001b[0mdistance_matrix\u001b[0m\u001b[0;34m)\u001b[0m\u001b[0;34m\u001b[0m\u001b[0;34m\u001b[0m\u001b[0m\n\u001b[0m\u001b[1;32m      8\u001b[0m         \u001b[0mmin_journey\u001b[0m \u001b[0;34m=\u001b[0m \u001b[0mmin\u001b[0m\u001b[0;34m(\u001b[0m\u001b[0mjourney2distance\u001b[0m\u001b[0;34m,\u001b[0m \u001b[0mkey\u001b[0m\u001b[0;34m=\u001b[0m\u001b[0mjourney2distance\u001b[0m\u001b[0;34m.\u001b[0m\u001b[0mget\u001b[0m\u001b[0;34m)\u001b[0m\u001b[0;34m\u001b[0m\u001b[0;34m\u001b[0m\u001b[0m\n\u001b[1;32m      9\u001b[0m \u001b[0;34m\u001b[0m\u001b[0m\n",
      "\u001b[0;32m<ipython-input-49-a9a90420fc4b>\u001b[0m in \u001b[0;36mget_similar_route\u001b[0;34m(self, distance_matrix)\u001b[0m\n\u001b[1;32m     26\u001b[0m                     \u001b[0;31m#    distance_matrix[self.route[j-1]][self.route[i]] + distance_matrix[self.route[i]][self.route[j+1]])\u001b[0m\u001b[0;34m\u001b[0m\u001b[0;34m\u001b[0m\u001b[0;34m\u001b[0m\u001b[0m\n\u001b[1;32m     27\u001b[0m                     \u001b[0msimilar_journey\u001b[0m \u001b[0;34m=\u001b[0m \u001b[0mJOURNEY\u001b[0m\u001b[0;34m(\u001b[0m\u001b[0mroute_\u001b[0m\u001b[0;34m)\u001b[0m\u001b[0;34m\u001b[0m\u001b[0;34m\u001b[0m\u001b[0m\n\u001b[0;32m---> 28\u001b[0;31m                     \u001b[0mroute2distance\u001b[0m\u001b[0;34m[\u001b[0m\u001b[0msimilar_journey\u001b[0m\u001b[0;34m]\u001b[0m \u001b[0;34m=\u001b[0m \u001b[0msimilar_journey\u001b[0m\u001b[0;34m.\u001b[0m\u001b[0mget_total_distance\u001b[0m\u001b[0;34m(\u001b[0m\u001b[0mdistance_matrix\u001b[0m\u001b[0;34m)\u001b[0m\u001b[0;34m\u001b[0m\u001b[0;34m\u001b[0m\u001b[0m\n\u001b[0m\u001b[1;32m     29\u001b[0m         \u001b[0;32mreturn\u001b[0m \u001b[0mroute2distance\u001b[0m\u001b[0;34m\u001b[0m\u001b[0;34m\u001b[0m\u001b[0m\n\u001b[1;32m     30\u001b[0m     \u001b[0;32mdef\u001b[0m \u001b[0mget_total_distance\u001b[0m\u001b[0;34m(\u001b[0m\u001b[0mself\u001b[0m\u001b[0;34m,\u001b[0m \u001b[0mdistance_matrix\u001b[0m\u001b[0;34m)\u001b[0m\u001b[0;34m:\u001b[0m\u001b[0;34m\u001b[0m\u001b[0;34m\u001b[0m\u001b[0m\n",
      "\u001b[0;32m<ipython-input-49-a9a90420fc4b>\u001b[0m in \u001b[0;36mget_total_distance\u001b[0;34m(self, distance_matrix)\u001b[0m\n\u001b[1;32m     31\u001b[0m         \u001b[0mtotal_distance\u001b[0m \u001b[0;34m=\u001b[0m \u001b[0;36m0\u001b[0m\u001b[0;34m\u001b[0m\u001b[0;34m\u001b[0m\u001b[0m\n\u001b[1;32m     32\u001b[0m         \u001b[0;32mfor\u001b[0m \u001b[0mi\u001b[0m \u001b[0;32min\u001b[0m \u001b[0mrange\u001b[0m\u001b[0;34m(\u001b[0m\u001b[0mself\u001b[0m\u001b[0;34m.\u001b[0m\u001b[0mNdestinations\u001b[0m\u001b[0;34m-\u001b[0m\u001b[0;36m1\u001b[0m\u001b[0;34m)\u001b[0m\u001b[0;34m:\u001b[0m\u001b[0;34m\u001b[0m\u001b[0;34m\u001b[0m\u001b[0m\n\u001b[0;32m---> 33\u001b[0;31m             \u001b[0mtotal_distance\u001b[0m \u001b[0;34m+=\u001b[0m \u001b[0mdistance_matrix\u001b[0m\u001b[0;34m[\u001b[0m\u001b[0mself\u001b[0m\u001b[0;34m.\u001b[0m\u001b[0mroute\u001b[0m\u001b[0;34m[\u001b[0m\u001b[0mi\u001b[0m\u001b[0;34m]\u001b[0m\u001b[0;34m]\u001b[0m\u001b[0;34m[\u001b[0m\u001b[0mself\u001b[0m\u001b[0;34m.\u001b[0m\u001b[0mroute\u001b[0m\u001b[0;34m[\u001b[0m\u001b[0mi\u001b[0m\u001b[0;34m+\u001b[0m\u001b[0;36m1\u001b[0m\u001b[0;34m]\u001b[0m\u001b[0;34m]\u001b[0m\u001b[0;34m\u001b[0m\u001b[0;34m\u001b[0m\u001b[0m\n\u001b[0m\u001b[1;32m     34\u001b[0m         \u001b[0;32mreturn\u001b[0m \u001b[0mtotal_distance\u001b[0m\u001b[0;34m\u001b[0m\u001b[0;34m\u001b[0m\u001b[0m\n",
      "\u001b[0;31mKeyboardInterrupt\u001b[0m: "
     ]
    }
   ],
   "source": [
    "optimized_journey = optimize_journey(journey.route)"
   ]
  },
  {
   "cell_type": "code",
   "execution_count": null,
   "metadata": {},
   "outputs": [],
   "source": []
  }
 ]
}